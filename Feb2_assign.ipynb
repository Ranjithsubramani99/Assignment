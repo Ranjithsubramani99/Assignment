{
 "cells": [
  {
   "cell_type": "markdown",
   "id": "b3520a9f-bbbf-46ff-bf2f-de459247a6c0",
   "metadata": {},
   "source": [
    "\n",
    "# What are the characteristics of the tuples? Is tuple immutable?"
   ]
  },
  {
   "cell_type": "markdown",
   "id": "ed5cae1e-d40b-4147-8c35-3f3f21378820",
   "metadata": {},
   "source": [
    "1.Tuples are Immutables. Tuples do not support item assignment \n",
    "\n",
    "\n",
    "2.tuple object is not callable, Idexing is not working in tuples\n"
   ]
  },
  {
   "cell_type": "markdown",
   "id": "044b0559-7dc4-47d5-be83-d78c8b41bf98",
   "metadata": {},
   "source": [
    " #  What are the two tuple methods in python? Give an example of each method. Give a reason why\n",
    "tuples have only two in-built methods as compared to Lists.\n"
   ]
  },
  {
   "cell_type": "markdown",
   "id": "c45a6e89-548a-44d9-81da-7bcc2c49966a",
   "metadata": {},
   "source": [
    "Tuples has only 2 fuctions  index and count.\n",
    "Because tuples does not support item assignment and object are not callable in tuple."
   ]
  },
  {
   "cell_type": "code",
   "execution_count": 6,
   "id": "88e55550-1092-40aa-b05a-b97c9fc83dbf",
   "metadata": {},
   "outputs": [],
   "source": [
    "t3=(1,2,3,4,5,6,2,2)"
   ]
  },
  {
   "cell_type": "code",
   "execution_count": 4,
   "id": "07bcb84f-8d74-4500-bb83-9c744bbb9e54",
   "metadata": {},
   "outputs": [
    {
     "data": {
      "text/plain": [
       "tuple"
      ]
     },
     "execution_count": 4,
     "metadata": {},
     "output_type": "execute_result"
    }
   ],
   "source": [
    "type(t3)"
   ]
  },
  {
   "cell_type": "code",
   "execution_count": 11,
   "id": "12aa9b1d-7cac-46eb-b9c9-3b495658bc66",
   "metadata": {},
   "outputs": [
    {
     "data": {
      "text/plain": [
       "3"
      ]
     },
     "execution_count": 11,
     "metadata": {},
     "output_type": "execute_result"
    }
   ],
   "source": [
    "t3.count(2)"
   ]
  },
  {
   "cell_type": "markdown",
   "id": "44d05517-82e0-436e-826e-b3b453725489",
   "metadata": {},
   "source": [
    "Here the 2 is availabe 2 times that why count is 3"
   ]
  },
  {
   "cell_type": "code",
   "execution_count": 9,
   "id": "7edf2971-5d5a-47c1-b3a5-603f19cb2ea3",
   "metadata": {},
   "outputs": [
    {
     "data": {
      "text/plain": [
       "5"
      ]
     },
     "execution_count": 9,
     "metadata": {},
     "output_type": "execute_result"
    }
   ],
   "source": [
    "t3.index(6)"
   ]
  },
  {
   "cell_type": "markdown",
   "id": "20f0e0ba-e029-4021-b9ee-6a3adc74757d",
   "metadata": {},
   "source": [
    "In the above example the 6 is coming in 5 index , hence showing the value as 5"
   ]
  },
  {
   "cell_type": "markdown",
   "id": "db62a491-b68a-4891-8803-005a3d23967d",
   "metadata": {
    "jp-MarkdownHeadingCollapsed": true,
    "tags": []
   },
   "source": [
    "# Which collection datatypes in python do not allow duplicate items? Write a code using a set to remove\n",
    "\n",
    "duplicates from the given list. List = [1, 1, 1, 2, 1, 3, 1, 4, 2, 1, 2, 2, 2, 3, 2, 4, 3, 1, 3, 2, 3, 3, 3, 4, 4, 1, 4, 2, 4, 3, 4, 4]"
   ]
  },
  {
   "cell_type": "code",
   "execution_count": 13,
   "id": "baffcb7f-05f8-4861-bb93-063c3ec28fe5",
   "metadata": {},
   "outputs": [],
   "source": [
    "l1= [1, 1, 1, 2, 1, 3, 1, 4, 2, 1, 2, 2, 2, 3, 2, 4, 3, 1, 3, 2, 3, 3, 3, 4, 4, 1, 4, 2, 4, 3, 4, 4]"
   ]
  },
  {
   "cell_type": "code",
   "execution_count": 19,
   "id": "3738170d-7196-4d8a-9f46-aa3e31cafb8a",
   "metadata": {},
   "outputs": [
    {
     "data": {
      "text/plain": [
       "list"
      ]
     },
     "execution_count": 19,
     "metadata": {},
     "output_type": "execute_result"
    }
   ],
   "source": [
    "type(l1)"
   ]
  },
  {
   "cell_type": "code",
   "execution_count": 24,
   "id": "4421d8de-b923-4796-abd5-4439936447b8",
   "metadata": {},
   "outputs": [],
   "source": [
    "t1= set(l1)"
   ]
  },
  {
   "cell_type": "code",
   "execution_count": 25,
   "id": "a9fc5272-45b0-4a64-a8ea-5382c2a55720",
   "metadata": {},
   "outputs": [
    {
     "data": {
      "text/plain": [
       "{1, 2, 3, 4}"
      ]
     },
     "execution_count": 25,
     "metadata": {},
     "output_type": "execute_result"
    }
   ],
   "source": [
    "t1"
   ]
  },
  {
   "cell_type": "markdown",
   "id": "be612efc-044b-4b1e-a602-b0f4b7575c6a",
   "metadata": {
    "tags": []
   },
   "source": [
    "##### Set does not allow the duplicate collection, if you see in the above example after converting into set we can see only 4 collections"
   ]
  },
  {
   "cell_type": "markdown",
   "id": "eaef1ff9-bb1b-4b72-8f00-3d3c9517ce38",
   "metadata": {},
   "source": [
    " # Q4. Explain the difference between the union() and update() methods for a set. Give an example of\n",
    "each method."
   ]
  },
  {
   "cell_type": "code",
   "execution_count": 26,
   "id": "08e4035f-e34a-4313-98c5-606e7449f38d",
   "metadata": {},
   "outputs": [],
   "source": [
    "l1=[1,2,3,4,5,6,7,8,9,0]"
   ]
  },
  {
   "cell_type": "code",
   "execution_count": 27,
   "id": "0d2afc91-2bb0-43b3-8c41-2b7fb2523d90",
   "metadata": {},
   "outputs": [
    {
     "data": {
      "text/plain": [
       "[1, 2, 3, 4, 5, 6, 7, 8, 9, 0]"
      ]
     },
     "execution_count": 27,
     "metadata": {},
     "output_type": "execute_result"
    }
   ],
   "source": [
    "l1"
   ]
  },
  {
   "cell_type": "code",
   "execution_count": 28,
   "id": "d44a861f-a332-4e97-adf0-e8626d3c7730",
   "metadata": {},
   "outputs": [
    {
     "data": {
      "text/plain": [
       "list"
      ]
     },
     "execution_count": 28,
     "metadata": {},
     "output_type": "execute_result"
    }
   ],
   "source": [
    "type(l1)"
   ]
  },
  {
   "cell_type": "code",
   "execution_count": 31,
   "id": "7c126edf-6da4-42a9-b93a-9b7f9e8fa2f4",
   "metadata": {},
   "outputs": [],
   "source": [
    "t5=set(l1)"
   ]
  },
  {
   "cell_type": "code",
   "execution_count": 32,
   "id": "855a2a29-d171-431c-859c-1c882b537e80",
   "metadata": {},
   "outputs": [
    {
     "data": {
      "text/plain": [
       "{0, 1, 2, 3, 4, 5, 6, 7, 8, 9}"
      ]
     },
     "execution_count": 32,
     "metadata": {},
     "output_type": "execute_result"
    }
   ],
   "source": [
    "t5"
   ]
  },
  {
   "cell_type": "code",
   "execution_count": 33,
   "id": "eeae6eca-e328-435e-b1f9-237df37ba1e3",
   "metadata": {},
   "outputs": [],
   "source": [
    "t6={7,8,\"Ranjiyh\"}"
   ]
  },
  {
   "cell_type": "code",
   "execution_count": 34,
   "id": "ea5888ae-bbdd-4a78-a17f-d8ca8d00cdb8",
   "metadata": {},
   "outputs": [
    {
     "data": {
      "text/plain": [
       "{0, 1, 2, 3, 4, 5, 6, 7, 8, 9, 'Ranjiyh'}"
      ]
     },
     "execution_count": 34,
     "metadata": {},
     "output_type": "execute_result"
    }
   ],
   "source": [
    "t5.union(t6)"
   ]
  },
  {
   "cell_type": "markdown",
   "id": "d37cccef-bc47-478b-89d6-a6cc9686dec7",
   "metadata": {},
   "source": [
    "If you see the above example , both the variable t5 and t6 got combined into a single one."
   ]
  },
  {
   "cell_type": "code",
   "execution_count": 36,
   "id": "39859375-be8a-47c0-8aa2-194ffdd49cfc",
   "metadata": {},
   "outputs": [],
   "source": [
    "t7=t5"
   ]
  },
  {
   "cell_type": "code",
   "execution_count": 52,
   "id": "45e93409-73ca-4b42-9064-9aead58af5cc",
   "metadata": {},
   "outputs": [
    {
     "data": {
      "text/plain": [
       "{0, 1, 2, 3, 4, 5, 6, 7, 8, 9, 'Ranjiyh'}"
      ]
     },
     "execution_count": 52,
     "metadata": {},
     "output_type": "execute_result"
    }
   ],
   "source": [
    "t7"
   ]
  },
  {
   "cell_type": "code",
   "execution_count": 38,
   "id": "6c33a4d3-2779-46bf-bbce-6b9cec50cbfd",
   "metadata": {},
   "outputs": [],
   "source": [
    "t8=t6"
   ]
  },
  {
   "cell_type": "code",
   "execution_count": 50,
   "id": "504fa3cb-35ec-4168-8569-0ce1afd96da2",
   "metadata": {},
   "outputs": [
    {
     "data": {
      "text/plain": [
       "{0, 1, 2, 3, 4, 5, 6, 7, 8, 9, 'Ranjiyh'}"
      ]
     },
     "execution_count": 50,
     "metadata": {},
     "output_type": "execute_result"
    }
   ],
   "source": [
    "t8"
   ]
  },
  {
   "cell_type": "code",
   "execution_count": 49,
   "id": "bdb614c4-eb81-40bf-bbbb-ca6c88020046",
   "metadata": {},
   "outputs": [],
   "source": [
    "t9=t7.update(t8)"
   ]
  },
  {
   "cell_type": "code",
   "execution_count": 51,
   "id": "695698b2-8999-499a-b81b-5385d58a5952",
   "metadata": {},
   "outputs": [],
   "source": [
    "t9"
   ]
  },
  {
   "cell_type": "markdown",
   "id": "207b4bc5-9218-4126-a7c6-0d9dcada5c85",
   "metadata": {},
   "source": [
    "If you see the above exmaple the t8 value got updated."
   ]
  },
  {
   "cell_type": "markdown",
   "id": "fdabdef8-f9a5-49f2-b4ac-300c06790d33",
   "metadata": {},
   "source": [
    "#  Q5. What is a dictionary? Give an example. Also, state whether a dictionary is ordered or unordered."
   ]
  },
  {
   "cell_type": "markdown",
   "id": "d15349d2-7afc-4398-9e44-aa2f329cdd0d",
   "metadata": {},
   "source": [
    "Dic is also a data type.A dictionary is a collection which is # ordered*, changeable and do not allow duplicates."
   ]
  },
  {
   "cell_type": "markdown",
   "id": "4ee4a516-db51-4b12-9e30-3571e795bde2",
   "metadata": {},
   "source": [
    "d1={\"name\":\"Ranjith, Raja\"}"
   ]
  },
  {
   "cell_type": "code",
   "execution_count": 71,
   "id": "7df8cdbd-af8a-4b60-bdaf-397494499e39",
   "metadata": {},
   "outputs": [
    {
     "data": {
      "text/plain": [
       "dict"
      ]
     },
     "execution_count": 71,
     "metadata": {},
     "output_type": "execute_result"
    }
   ],
   "source": [
    "type(d1)"
   ]
  },
  {
   "cell_type": "code",
   "execution_count": 73,
   "id": "a8a6dcd7-8f55-432b-8c16-f3022220f888",
   "metadata": {},
   "outputs": [
    {
     "data": {
      "text/plain": [
       "dict_values(['Ranjith, Raja'])"
      ]
     },
     "execution_count": 73,
     "metadata": {},
     "output_type": "execute_result"
    }
   ],
   "source": [
    "d1.values()"
   ]
  },
  {
   "cell_type": "code",
   "execution_count": 74,
   "id": "7b6ae8cf-eb76-4f3c-9cad-114c4a17e9dc",
   "metadata": {},
   "outputs": [
    {
     "data": {
      "text/plain": [
       "dict_keys(['name'])"
      ]
     },
     "execution_count": 74,
     "metadata": {},
     "output_type": "execute_result"
    }
   ],
   "source": [
    "d1.keys()"
   ]
  },
  {
   "cell_type": "code",
   "execution_count": 78,
   "id": "945b56bf-b0a3-4132-b073-25d4594ad57b",
   "metadata": {},
   "outputs": [],
   "source": [
    "d2={\"ID\":12345}"
   ]
  },
  {
   "cell_type": "code",
   "execution_count": 79,
   "id": "eaa800f1-b683-4591-9ad2-92d7b3ab0297",
   "metadata": {},
   "outputs": [
    {
     "data": {
      "text/plain": [
       "dict_values([12345])"
      ]
     },
     "execution_count": 79,
     "metadata": {},
     "output_type": "execute_result"
    }
   ],
   "source": [
    "d2.values()"
   ]
  },
  {
   "cell_type": "markdown",
   "id": "1414024d-ff86-4fb5-ab09-21bb15f35cb2",
   "metadata": {},
   "source": [
    "# Q6. Can we create a nested dictionary? If so, please give an example by creating a simple one-level nested dictionary."
   ]
  },
  {
   "cell_type": "markdown",
   "id": "70963a5f-e6c2-489d-8c34-16f645bd6b67",
   "metadata": {},
   "source": [
    "Yes, nested dict is possible, we can create a nested dict. Lets see the example.\n"
   ]
  },
  {
   "cell_type": "code",
   "execution_count": 81,
   "id": "16e667f6-c24b-49ce-8cde-7a9ee0a3ce79",
   "metadata": {},
   "outputs": [
    {
     "data": {
      "text/plain": [
       "{'name': 'Ranjith, Raja'}"
      ]
     },
     "execution_count": 81,
     "metadata": {},
     "output_type": "execute_result"
    }
   ],
   "source": [
    "d1"
   ]
  },
  {
   "cell_type": "code",
   "execution_count": 82,
   "id": "a487ab5d-1901-4567-9c4a-5006f37f3f36",
   "metadata": {},
   "outputs": [],
   "source": [
    "d2={id:'1,2'}"
   ]
  },
  {
   "cell_type": "code",
   "execution_count": 83,
   "id": "769e73b5-8239-4822-a13d-8799729df2b8",
   "metadata": {},
   "outputs": [
    {
     "data": {
      "text/plain": [
       "{<function id(obj, /)>: '1,2'}"
      ]
     },
     "execution_count": 83,
     "metadata": {},
     "output_type": "execute_result"
    }
   ],
   "source": [
    "d2"
   ]
  },
  {
   "cell_type": "code",
   "execution_count": 90,
   "id": "6abbedc4-c101-4902-bcf7-5285584ac226",
   "metadata": {},
   "outputs": [
    {
     "data": {
      "text/plain": [
       "'1,2'"
      ]
     },
     "execution_count": 90,
     "metadata": {},
     "output_type": "execute_result"
    }
   ],
   "source": [
    "d2.pop(id)"
   ]
  },
  {
   "cell_type": "code",
   "execution_count": 91,
   "id": "84e1e865-a205-4a94-8a3c-c450a4736204",
   "metadata": {},
   "outputs": [
    {
     "data": {
      "text/plain": [
       "{}"
      ]
     },
     "execution_count": 91,
     "metadata": {},
     "output_type": "execute_result"
    }
   ],
   "source": [
    "d2"
   ]
  },
  {
   "cell_type": "code",
   "execution_count": 92,
   "id": "992a8a45-92cf-4e39-8ed1-9a278c57f62b",
   "metadata": {},
   "outputs": [
    {
     "ename": "SyntaxError",
     "evalue": "invalid syntax (2734135289.py, line 1)",
     "output_type": "error",
     "traceback": [
      "\u001b[0;36m  Cell \u001b[0;32mIn[92], line 1\u001b[0;36m\u001b[0m\n\u001b[0;31m    d2{d1}\u001b[0m\n\u001b[0m      ^\u001b[0m\n\u001b[0;31mSyntaxError\u001b[0m\u001b[0;31m:\u001b[0m invalid syntax\n"
     ]
    }
   ],
   "source": [
    "d2{d1}"
   ]
  },
  {
   "cell_type": "code",
   "execution_count": 94,
   "id": "ed45f551-ff2d-45af-aedb-b2ef9eb4b6fe",
   "metadata": {},
   "outputs": [],
   "source": [
    "myfamily = {\n",
    "  \"child1\" : {\n",
    "    \"name\" : \"Emil\",\n",
    "    \"year\" : 2004\n",
    "  },\n",
    "  \"child2\" : {\n",
    "    \"name\" : \"Tobias\",\n",
    "    \"year\" : 2007\n",
    "  },\n",
    "  \"child3\" : {\n",
    "    \"name\" : \"Linus\",\n",
    "    \"year\" : 2011\n",
    "  }\n",
    "}"
   ]
  },
  {
   "cell_type": "code",
   "execution_count": 95,
   "id": "66d2cb0a-c5e3-4652-9207-0bb90bc6e1e1",
   "metadata": {},
   "outputs": [
    {
     "data": {
      "text/plain": [
       "{'child1': {'name': 'Emil', 'year': 2004},\n",
       " 'child2': {'name': 'Tobias', 'year': 2007},\n",
       " 'child3': {'name': 'Linus', 'year': 2011}}"
      ]
     },
     "execution_count": 95,
     "metadata": {},
     "output_type": "execute_result"
    }
   ],
   "source": [
    "myfamily"
   ]
  },
  {
   "cell_type": "markdown",
   "id": "14221daf-9591-4d42-8b28-c58b82a25a80",
   "metadata": {},
   "source": [
    "Here is the example for nested dict"
   ]
  },
  {
   "cell_type": "markdown",
   "id": "c188619e-26b8-45d5-a2ad-f062b395e1af",
   "metadata": {},
   "source": [
    "# Q7. Using setdefault() method, create key named topics in the given dictionary and also add the value of the key as this list ['Python', 'Machine Learning’, 'Deep Learning'] dict1 = {'language' : 'Python', 'course': 'Data Science Masters'}"
   ]
  },
  {
   "cell_type": "code",
   "execution_count": 96,
   "id": "723605d7-ef8d-4445-838a-cd5f5bd72b96",
   "metadata": {},
   "outputs": [],
   "source": [
    "d4={}"
   ]
  },
  {
   "cell_type": "code",
   "execution_count": 97,
   "id": "260fdee0-4190-42d8-99c5-b843623eab51",
   "metadata": {},
   "outputs": [
    {
     "data": {
      "text/plain": [
       "{}"
      ]
     },
     "execution_count": 97,
     "metadata": {},
     "output_type": "execute_result"
    }
   ],
   "source": [
    "d4"
   ]
  },
  {
   "cell_type": "code",
   "execution_count": 118,
   "id": "5c42a5ce-15f9-4e63-9f5b-b0c7c72da0b2",
   "metadata": {},
   "outputs": [
    {
     "data": {
      "text/plain": [
       "'Python'"
      ]
     },
     "execution_count": 118,
     "metadata": {},
     "output_type": "execute_result"
    }
   ],
   "source": [
    "d4.setdefault(\"topics\",\"Python\")"
   ]
  },
  {
   "cell_type": "code",
   "execution_count": 114,
   "id": "d2b4b261-d298-4559-b04f-2986bd5ad981",
   "metadata": {},
   "outputs": [
    {
     "data": {
      "text/plain": [
       "{'topics': 'Python'}"
      ]
     },
     "execution_count": 114,
     "metadata": {},
     "output_type": "execute_result"
    }
   ],
   "source": [
    "d4"
   ]
  },
  {
   "cell_type": "code",
   "execution_count": 119,
   "id": "e4ff64b7-37e7-418d-b4e7-8ca184150b3e",
   "metadata": {},
   "outputs": [
    {
     "name": "stdout",
     "output_type": "stream",
     "text": [
      "{'brand': 'Ford', 'model': 'Mustang', 'year': 1964, 'color': 'White'}\n"
     ]
    }
   ],
   "source": [
    "car = {\n",
    "  \"brand\": \"Ford\",\n",
    "  \"model\": \"Mustang\",\n",
    "  \"year\": 1964\n",
    "}\n",
    "\n",
    "car.update({\"color\": \"White\"})\n",
    "\n",
    "print(car)"
   ]
  },
  {
   "cell_type": "code",
   "execution_count": 121,
   "id": "fec2854b-18d2-4740-a853-2e9d37459760",
   "metadata": {},
   "outputs": [],
   "source": [
    "dict1 = {'language' : 'Python', 'course': 'Data Science Masters'}"
   ]
  },
  {
   "cell_type": "code",
   "execution_count": 122,
   "id": "dad24049-f679-41eb-b9b7-add1bac8db38",
   "metadata": {},
   "outputs": [
    {
     "data": {
      "text/plain": [
       "{'language': 'Python', 'course': 'Data Science Masters'}"
      ]
     },
     "execution_count": 122,
     "metadata": {},
     "output_type": "execute_result"
    }
   ],
   "source": [
    "dict1"
   ]
  },
  {
   "cell_type": "code",
   "execution_count": 125,
   "id": "3bc1d66d-f8e5-4f46-bfa8-03177d026fff",
   "metadata": {},
   "outputs": [
    {
     "data": {
      "text/plain": [
       "{'language': 'Python', 'course': 'Data Science Masters'}"
      ]
     },
     "execution_count": 125,
     "metadata": {},
     "output_type": "execute_result"
    }
   ],
   "source": [
    "dict1"
   ]
  },
  {
   "cell_type": "code",
   "execution_count": 147,
   "id": "91aeebf9-9c07-4145-a42f-f9df266dd414",
   "metadata": {},
   "outputs": [
    {
     "data": {
      "text/plain": [
       "'machine learning'"
      ]
     },
     "execution_count": 147,
     "metadata": {},
     "output_type": "execute_result"
    }
   ],
   "source": [
    "dict1.setdefault(\"topics\",\"machine learning\")"
   ]
  },
  {
   "cell_type": "code",
   "execution_count": 152,
   "id": "f05c63c6-8676-49e3-898c-0c5452e25355",
   "metadata": {},
   "outputs": [
    {
     "data": {
      "text/plain": [
       "{'language': 'Python',\n",
       " 'course': 'Data Science Masters',\n",
       " 'topics': 'machine learning'}"
      ]
     },
     "execution_count": 152,
     "metadata": {},
     "output_type": "execute_result"
    }
   ],
   "source": [
    "dict1"
   ]
  },
  {
   "cell_type": "code",
   "execution_count": 150,
   "id": "2e4992c6-a8ae-412c-ba7b-e1274db5afbe",
   "metadata": {},
   "outputs": [
    {
     "data": {
      "text/plain": [
       "'machine learning'"
      ]
     },
     "execution_count": 150,
     "metadata": {},
     "output_type": "execute_result"
    }
   ],
   "source": [
    "dict1.setdefault(\"topics\",\"['Python','Machine Learning’,'Deep Learning']\")"
   ]
  },
  {
   "cell_type": "code",
   "execution_count": 151,
   "id": "6c51263f-06d9-4996-b530-4fa4a83bc742",
   "metadata": {},
   "outputs": [
    {
     "data": {
      "text/plain": [
       "{'language': 'Python',\n",
       " 'course': 'Data Science Masters',\n",
       " 'topics': 'machine learning'}"
      ]
     },
     "execution_count": 151,
     "metadata": {},
     "output_type": "execute_result"
    }
   ],
   "source": [
    "dict1"
   ]
  },
  {
   "cell_type": "code",
   "execution_count": null,
   "id": "9062149b-b99c-480b-ab13-bd328cfb2313",
   "metadata": {},
   "outputs": [],
   "source": [
    "dict1.update"
   ]
  },
  {
   "cell_type": "code",
   "execution_count": 155,
   "id": "29ba7ea5-0a4f-411b-8a98-0d18d04ae218",
   "metadata": {},
   "outputs": [],
   "source": [
    "dict2 = {'language' : 'Python', 'course': 'Data Science Masters'}"
   ]
  },
  {
   "cell_type": "code",
   "execution_count": 156,
   "id": "6d2444b2-3de1-40f4-aa1c-de875b8d93e8",
   "metadata": {},
   "outputs": [
    {
     "data": {
      "text/plain": [
       "{'language': 'Python', 'course': 'Data Science Masters'}"
      ]
     },
     "execution_count": 156,
     "metadata": {},
     "output_type": "execute_result"
    }
   ],
   "source": [
    "dict2"
   ]
  },
  {
   "cell_type": "code",
   "execution_count": 171,
   "id": "a5d7e163-9233-420e-82b2-4633f5084cf8",
   "metadata": {},
   "outputs": [
    {
     "data": {
      "text/plain": [
       "(1, 2, 3)"
      ]
     },
     "execution_count": 171,
     "metadata": {},
     "output_type": "execute_result"
    }
   ],
   "source": [
    "dict2.setdefault('topics',(1,4,3))"
   ]
  },
  {
   "cell_type": "code",
   "execution_count": 170,
   "id": "18c8a0d4-76a8-4d09-9227-57feb910bd9e",
   "metadata": {},
   "outputs": [
    {
     "data": {
      "text/plain": [
       "{'language': 'Python', 'course': 'Data Science Masters', 'topics': (1, 2, 3)}"
      ]
     },
     "execution_count": 170,
     "metadata": {},
     "output_type": "execute_result"
    }
   ],
   "source": [
    "dict2"
   ]
  },
  {
   "cell_type": "markdown",
   "id": "61ac226d-ccce-4ce8-afe9-da7e9340e56c",
   "metadata": {},
   "source": [
    " # Q8. What are the three view objects in dictionaries? Use the three in-built methods in python to displaythese three view objects for the given dictionary. dict1 = {'Sport': 'Cricket' , 'Teams': ['India', 'Australia', 'England', 'South Africa', 'Sri Lanka', 'New Zealand']}"
   ]
  },
  {
   "cell_type": "code",
   "execution_count": 172,
   "id": "ed4c39e3-011e-4d4e-b79a-2d2100a1545e",
   "metadata": {},
   "outputs": [],
   "source": [
    "dict1 = {'Sport': 'Cricket' , 'Teams': ['India', 'Australia', 'England', 'South Africa', 'Sri Lanka', 'New Zealand']}"
   ]
  },
  {
   "cell_type": "code",
   "execution_count": 173,
   "id": "c36e2c36-69b1-494d-9d54-7e531a7e8b4b",
   "metadata": {},
   "outputs": [
    {
     "data": {
      "text/plain": [
       "{'Sport': 'Cricket',\n",
       " 'Teams': ['India',\n",
       "  'Australia',\n",
       "  'England',\n",
       "  'South Africa',\n",
       "  'Sri Lanka',\n",
       "  'New Zealand']}"
      ]
     },
     "execution_count": 173,
     "metadata": {},
     "output_type": "execute_result"
    }
   ],
   "source": [
    "dict1"
   ]
  },
  {
   "cell_type": "code",
   "execution_count": 174,
   "id": "92364e77-65a8-4963-a73c-dfb0f525980d",
   "metadata": {},
   "outputs": [
    {
     "data": {
      "text/plain": [
       "dict_keys(['Sport', 'Teams'])"
      ]
     },
     "execution_count": 174,
     "metadata": {},
     "output_type": "execute_result"
    }
   ],
   "source": [
    "dict1.keys()"
   ]
  },
  {
   "cell_type": "code",
   "execution_count": 183,
   "id": "138a9e88-e3a7-4b3a-9fa7-cf9ac64036f0",
   "metadata": {},
   "outputs": [
    {
     "name": "stdout",
     "output_type": "stream",
     "text": [
      "<method 'values' of 'dict' objects>\n"
     ]
    }
   ],
   "source": [
    "print (dict.values)"
   ]
  },
  {
   "cell_type": "code",
   "execution_count": 184,
   "id": "0f92e3a8-19ba-437c-9738-eaa20a210d82",
   "metadata": {},
   "outputs": [
    {
     "data": {
      "text/plain": [
       "{'Sport': 'Cricket',\n",
       " 'Teams': ['India',\n",
       "  'Australia',\n",
       "  'England',\n",
       "  'South Africa',\n",
       "  'Sri Lanka',\n",
       "  'New Zealand']}"
      ]
     },
     "execution_count": 184,
     "metadata": {},
     "output_type": "execute_result"
    }
   ],
   "source": [
    "dict1"
   ]
  },
  {
   "cell_type": "code",
   "execution_count": 186,
   "id": "825d309a-20b4-445a-bf39-61c5edbb5713",
   "metadata": {},
   "outputs": [
    {
     "data": {
      "text/plain": [
       "dict_keys(['Sport', 'Teams'])"
      ]
     },
     "execution_count": 186,
     "metadata": {},
     "output_type": "execute_result"
    }
   ],
   "source": [
    "dict1.keys()"
   ]
  },
  {
   "cell_type": "code",
   "execution_count": 187,
   "id": "425f32b7-dfae-4644-9a5c-1bb1dbbe4df0",
   "metadata": {},
   "outputs": [
    {
     "data": {
      "text/plain": [
       "dict_values(['Cricket', ['India', 'Australia', 'England', 'South Africa', 'Sri Lanka', 'New Zealand']])"
      ]
     },
     "execution_count": 187,
     "metadata": {},
     "output_type": "execute_result"
    }
   ],
   "source": [
    "dict1.values()"
   ]
  },
  {
   "cell_type": "code",
   "execution_count": null,
   "id": "21901dd3-8feb-4637-b16a-121ee7194613",
   "metadata": {},
   "outputs": [],
   "source": []
  }
 ],
 "metadata": {
  "kernelspec": {
   "display_name": "Python 3 (ipykernel)",
   "language": "python",
   "name": "python3"
  },
  "language_info": {
   "codemirror_mode": {
    "name": "ipython",
    "version": 3
   },
   "file_extension": ".py",
   "mimetype": "text/x-python",
   "name": "python",
   "nbconvert_exporter": "python",
   "pygments_lexer": "ipython3",
   "version": "3.10.8"
  }
 },
 "nbformat": 4,
 "nbformat_minor": 5
}
