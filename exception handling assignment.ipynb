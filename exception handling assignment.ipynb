{
 "cells": [
  {
   "cell_type": "markdown",
   "id": "f9649f6f-ae9c-4db4-a5bd-507c6d10278d",
   "metadata": {},
   "source": [
    "\n",
    "Q1. Wha\n",
    "t is\n",
    "tne Exception in python? Write the differen,e etween Ex,eptions\n",
    "nd $\n",
    "nt\n",
    "x errors"
   ]
  },
  {
   "cell_type": "markdown",
   "id": "40e675c1-f8db-44f9-8870-9bf8c3be2d7e",
   "metadata": {},
   "source": [
    "Exception handing is the method to except or skip our error and make our next line of code to run. It is always better to use the exception handling method in our daily envirinment."
   ]
  },
  {
   "cell_type": "markdown",
   "id": "a092d76b-41ab-4a80-86fd-2998a0341aaf",
   "metadata": {},
   "source": [
    "Q2. Q2. Wh\n",
    "t h\n",
    "ppens when\n",
    "\n",
    "n ex,eption is not h\n",
    "\n",
    "ndled? Expl\n",
    "in with\n",
    "n ex\n",
    "mple"
   ]
  },
  {
   "cell_type": "markdown",
   "id": "1ce04c65-b867-4f8e-8e8f-7d1979aceffa",
   "metadata": {},
   "source": [
    "Q2. if exception handling is not implemented it won't allow to excute the next line of code.\n",
    "Lets see in the example.\n"
   ]
  },
  {
   "cell_type": "code",
   "execution_count": 9,
   "id": "5aef2baa-8b96-41ef-9db6-3ab7397e861a",
   "metadata": {},
   "outputs": [
    {
     "ename": "FileNotFoundError",
     "evalue": "[Errno 2] No such file or directory: 'test.csv'",
     "output_type": "error",
     "traceback": [
      "\u001b[0;31m---------------------------------------------------------------------------\u001b[0m",
      "\u001b[0;31mFileNotFoundError\u001b[0m                         Traceback (most recent call last)",
      "Cell \u001b[0;32mIn[9], line 1\u001b[0m\n\u001b[0;32m----> 1\u001b[0m file \u001b[38;5;241m=\u001b[39m\u001b[38;5;28;43mopen\u001b[39;49m\u001b[43m(\u001b[49m\u001b[38;5;124;43m'\u001b[39;49m\u001b[38;5;124;43mtest.csv\u001b[39;49m\u001b[38;5;124;43m'\u001b[39;49m\u001b[43m,\u001b[49m\u001b[38;5;124;43m'\u001b[39;49m\u001b[38;5;124;43mr\u001b[39;49m\u001b[38;5;124;43m'\u001b[39;49m\u001b[43m)\u001b[49m\n",
      "File \u001b[0;32m/opt/conda/lib/python3.10/site-packages/IPython/core/interactiveshell.py:282\u001b[0m, in \u001b[0;36m_modified_open\u001b[0;34m(file, *args, **kwargs)\u001b[0m\n\u001b[1;32m    275\u001b[0m \u001b[38;5;28;01mif\u001b[39;00m file \u001b[38;5;129;01min\u001b[39;00m {\u001b[38;5;241m0\u001b[39m, \u001b[38;5;241m1\u001b[39m, \u001b[38;5;241m2\u001b[39m}:\n\u001b[1;32m    276\u001b[0m     \u001b[38;5;28;01mraise\u001b[39;00m \u001b[38;5;167;01mValueError\u001b[39;00m(\n\u001b[1;32m    277\u001b[0m         \u001b[38;5;124mf\u001b[39m\u001b[38;5;124m\"\u001b[39m\u001b[38;5;124mIPython won\u001b[39m\u001b[38;5;124m'\u001b[39m\u001b[38;5;124mt let you open fd=\u001b[39m\u001b[38;5;132;01m{\u001b[39;00mfile\u001b[38;5;132;01m}\u001b[39;00m\u001b[38;5;124m by default \u001b[39m\u001b[38;5;124m\"\u001b[39m\n\u001b[1;32m    278\u001b[0m         \u001b[38;5;124m\"\u001b[39m\u001b[38;5;124mas it is likely to crash IPython. If you know what you are doing, \u001b[39m\u001b[38;5;124m\"\u001b[39m\n\u001b[1;32m    279\u001b[0m         \u001b[38;5;124m\"\u001b[39m\u001b[38;5;124myou can use builtins\u001b[39m\u001b[38;5;124m'\u001b[39m\u001b[38;5;124m open.\u001b[39m\u001b[38;5;124m\"\u001b[39m\n\u001b[1;32m    280\u001b[0m     )\n\u001b[0;32m--> 282\u001b[0m \u001b[38;5;28;01mreturn\u001b[39;00m \u001b[43mio_open\u001b[49m\u001b[43m(\u001b[49m\u001b[43mfile\u001b[49m\u001b[43m,\u001b[49m\u001b[43m \u001b[49m\u001b[38;5;241;43m*\u001b[39;49m\u001b[43margs\u001b[49m\u001b[43m,\u001b[49m\u001b[43m \u001b[49m\u001b[38;5;241;43m*\u001b[39;49m\u001b[38;5;241;43m*\u001b[39;49m\u001b[43mkwargs\u001b[49m\u001b[43m)\u001b[49m\n",
      "\u001b[0;31mFileNotFoundError\u001b[0m: [Errno 2] No such file or directory: 'test.csv'"
     ]
    }
   ],
   "source": [
    "file =open('test.csv','r')"
   ]
  },
  {
   "cell_type": "code",
   "execution_count": 16,
   "id": "1aaf6968-7f00-4b3e-9727-b58583c15c89",
   "metadata": {},
   "outputs": [
    {
     "name": "stdout",
     "output_type": "stream",
     "text": [
      "there is a error in the file [Errno 2] No such file or directory: 'test1.json'\n"
     ]
    }
   ],
   "source": [
    "try:\n",
    "    f1=open('test1.json','r')\n",
    "except Exception as e:\n",
    "    print('there is a error in the file',e)\n",
    "else :\n",
    "    print ('this is next line of code')\n",
    "    f1.close()"
   ]
  },
  {
   "cell_type": "markdown",
   "id": "6fca79b4-8cd4-47a7-9b39-a5ad887b0d52",
   "metadata": {},
   "source": [
    "Q3:"
   ]
  },
  {
   "cell_type": "markdown",
   "id": "45ac6ae6-f0cd-40cc-bcda-f4bebb0553e0",
   "metadata": {},
   "source": [
    "try, except, else and finally are the exception handle method which are need for exception handling in the pyrhon"
   ]
  },
  {
   "cell_type": "markdown",
   "id": "ed9a2ab7-16f6-4cec-b6e9-b9c32f9fbbf9",
   "metadata": {},
   "source": [
    "Q4:"
   ]
  },
  {
   "cell_type": "code",
   "execution_count": 18,
   "id": "9181a285-91d2-4378-b003-4a0232d5f7c0",
   "metadata": {},
   "outputs": [
    {
     "ename": "ZeroDivisionError",
     "evalue": "division by zero",
     "output_type": "error",
     "traceback": [
      "\u001b[0;31m---------------------------------------------------------------------------\u001b[0m",
      "\u001b[0;31mZeroDivisionError\u001b[0m                         Traceback (most recent call last)",
      "Cell \u001b[0;32mIn[18], line 1\u001b[0m\n\u001b[0;32m----> 1\u001b[0m f5\u001b[38;5;241m=\u001b[39m\u001b[38;5;241;43m1\u001b[39;49m\u001b[38;5;241;43m/\u001b[39;49m\u001b[38;5;241;43m0\u001b[39;49m\n",
      "\u001b[0;31mZeroDivisionError\u001b[0m: division by zero"
     ]
    }
   ],
   "source": [
    "f5=1/0"
   ]
  },
  {
   "cell_type": "code",
   "execution_count": 21,
   "id": "b045fddf-0af7-47c3-b848-948390830d14",
   "metadata": {},
   "outputs": [
    {
     "name": "stdout",
     "output_type": "stream",
     "text": [
      "there is a error in the code division by zero\n"
     ]
    }
   ],
   "source": [
    "try:\n",
    "    f5=1/0\n",
    "except Exception as e:\n",
    "        print('there is a error in the code',e)"
   ]
  },
  {
   "cell_type": "code",
   "execution_count": 22,
   "id": "c2f262d4-a41b-4212-a5e3-3666dec3da3d",
   "metadata": {},
   "outputs": [
    {
     "name": "stdout",
     "output_type": "stream",
     "text": [
      "there is a error in the code division by zero\n"
     ]
    }
   ],
   "source": [
    "try:\n",
    "    f5=1/0\n",
    "except Exception as e:\n",
    "        print('there is a error in the code',e)\n",
    "else:\n",
    "    print(\"There is no error in the code\")"
   ]
  },
  {
   "cell_type": "code",
   "execution_count": 23,
   "id": "f95d2bb2-dbca-45e5-86a1-7598cff4dc01",
   "metadata": {},
   "outputs": [
    {
     "name": "stdout",
     "output_type": "stream",
     "text": [
      "there is a error in the code division by zero\n",
      "Finally is always used to print anything in the code\n"
     ]
    }
   ],
   "source": [
    "try:\n",
    "    f5=1/0\n",
    "except Exception as e:\n",
    "        print('there is a error in the code',e)\n",
    "else:\n",
    "    print(\"There is no error in the code\")\n",
    "finally:\n",
    "    print(\"Finally is always used to print anything in the code\")"
   ]
  },
  {
   "cell_type": "markdown",
   "id": "a6d19bbf-4e24-4a12-83c9-19677cd5ebef",
   "metadata": {},
   "source": [
    "Q5:"
   ]
  },
  {
   "cell_type": "markdown",
   "id": "0b2e727e-49e4-4497-8e0b-ec2e5fad11de",
   "metadata": {},
   "source": [
    "Custom exception handling are the method that are used to except some specify values as per the user inputs , lets say ages cannot be in negative and if you want the users to except from inputting those values and then except can be used to except those values.\n"
   ]
  },
  {
   "cell_type": "markdown",
   "id": "fcd89d86-bc0d-4cd2-a172-bd5032c1dcdf",
   "metadata": {},
   "source": [
    "Q6:\n",
    "    Custom exception class with examples:"
   ]
  },
  {
   "cell_type": "code",
   "execution_count": 31,
   "id": "9947d2b8-a490-474c-9c5a-88c8a792382f",
   "metadata": {},
   "outputs": [],
   "source": [
    "class my_age(Exception):\n",
    "    def __init__(self,msg):\n",
    "        self.msg=msg\n",
    "    \n",
    "     "
   ]
  },
  {
   "cell_type": "code",
   "execution_count": 33,
   "id": "d42027ff-4222-4ea7-8742-764ea3ce8721",
   "metadata": {},
   "outputs": [],
   "source": [
    "def valid_age(age):\n",
    "    if age<0:\n",
    "        print(\"Age cannot be negative\")\n",
    "    elif age>150:\n",
    "        print(\"Age cannot be that much greater\")\n",
    "    else:\n",
    "        print (\"Age is valid\")\n",
    "        \n",
    "        \n",
    "        "
   ]
  },
  {
   "cell_type": "code",
   "execution_count": 38,
   "id": "d07ed099-9252-4aca-91db-5b19199ba519",
   "metadata": {},
   "outputs": [
    {
     "name": "stdin",
     "output_type": "stream",
     "text": [
      "Enter the age 2345\n"
     ]
    },
    {
     "name": "stdout",
     "output_type": "stream",
     "text": [
      "Age cannot be that much greater\n"
     ]
    }
   ],
   "source": [
    "try:\n",
    "    age= int (input (\"Enter the age\"))\n",
    "    valid_age(age)\n",
    "except my_age as e:\n",
    "    print (e)"
   ]
  },
  {
   "cell_type": "code",
   "execution_count": null,
   "id": "3704b1a6-1bc1-4918-a56a-7c3d97aa4057",
   "metadata": {},
   "outputs": [],
   "source": []
  }
 ],
 "metadata": {
  "kernelspec": {
   "display_name": "Python 3 (ipykernel)",
   "language": "python",
   "name": "python3"
  },
  "language_info": {
   "codemirror_mode": {
    "name": "ipython",
    "version": 3
   },
   "file_extension": ".py",
   "mimetype": "text/x-python",
   "name": "python",
   "nbconvert_exporter": "python",
   "pygments_lexer": "ipython3",
   "version": "3.10.8"
  }
 },
 "nbformat": 4,
 "nbformat_minor": 5
}
